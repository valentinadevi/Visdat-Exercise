{
 "cells": [
  {
   "cell_type": "markdown",
   "metadata": {
    "id": "PeWNQGmuWD7n"
   },
   "source": [
    "# **Pandas 05**"
   ]
  },
  {
   "cell_type": "markdown",
   "metadata": {
    "id": "8dBzaTBZWKJ0"
   },
   "source": [
    "# **#17 Resampling pada Data Deret Waktu (time series data)** \n",
    "Source : [Indonesia Belajar](https://youtu.be/zYcQgmzcHRM)"
   ]
  },
  {
   "cell_type": "markdown",
   "metadata": {
    "id": "Gc6EQpJLWSAm"
   },
   "source": [
    "# Import Modules"
   ]
  },
  {
   "cell_type": "code",
   "execution_count": 1,
   "metadata": {
    "colab": {
     "base_uri": "https://localhost:8080/"
    },
    "id": "gAJ_D5aZVwAd",
    "outputId": "cc2495ab-d9a5-4434-8000-f544a9d0e99b"
   },
   "outputs": [
    {
     "name": "stdout",
     "output_type": "stream",
     "text": [
      "2.1.1\n",
      "1.24.2\n"
     ]
    }
   ],
   "source": [
    "import pandas as pd\n",
    "import numpy as np\n",
    "\n",
    "print(pd.__version__)\n",
    "print(np.__version__)"
   ]
  },
  {
   "cell_type": "markdown",
   "metadata": {
    "id": "hH3GyqBYWbsG"
   },
   "source": [
    "# Persiapan Data Frame\n",
    "- Baris pada data frame kali ini bernilai jumlah hari dikali jam dalam sehari.\n",
    "- Berisi deret waktu dengan frekuensi per hour."
   ]
  },
  {
   "cell_type": "code",
   "execution_count": 2,
   "metadata": {
    "colab": {
     "base_uri": "https://localhost:8080/",
     "height": 458
    },
    "id": "9oMZ43tzW0Xe",
    "outputId": "b7c435eb-64f6-49fc-db0d-5f86e5f8af30"
   },
   "outputs": [
    {
     "data": {
      "text/html": [
       "<div>\n",
       "<style scoped>\n",
       "    .dataframe tbody tr th:only-of-type {\n",
       "        vertical-align: middle;\n",
       "    }\n",
       "\n",
       "    .dataframe tbody tr th {\n",
       "        vertical-align: top;\n",
       "    }\n",
       "\n",
       "    .dataframe thead th {\n",
       "        text-align: right;\n",
       "    }\n",
       "</style>\n",
       "<table border=\"1\" class=\"dataframe\">\n",
       "  <thead>\n",
       "    <tr style=\"text-align: right;\">\n",
       "      <th></th>\n",
       "      <th>col1</th>\n",
       "      <th>col2</th>\n",
       "    </tr>\n",
       "  </thead>\n",
       "  <tbody>\n",
       "    <tr>\n",
       "      <th>2023-01-01 00:00:00</th>\n",
       "      <td>1</td>\n",
       "      <td>4</td>\n",
       "    </tr>\n",
       "    <tr>\n",
       "      <th>2023-01-01 01:00:00</th>\n",
       "      <td>4</td>\n",
       "      <td>16</td>\n",
       "    </tr>\n",
       "    <tr>\n",
       "      <th>2023-01-01 02:00:00</th>\n",
       "      <td>5</td>\n",
       "      <td>19</td>\n",
       "    </tr>\n",
       "    <tr>\n",
       "      <th>2023-01-01 03:00:00</th>\n",
       "      <td>15</td>\n",
       "      <td>1</td>\n",
       "    </tr>\n",
       "    <tr>\n",
       "      <th>2023-01-01 04:00:00</th>\n",
       "      <td>1</td>\n",
       "      <td>4</td>\n",
       "    </tr>\n",
       "    <tr>\n",
       "      <th>...</th>\n",
       "      <td>...</td>\n",
       "      <td>...</td>\n",
       "    </tr>\n",
       "    <tr>\n",
       "      <th>2023-12-31 19:00:00</th>\n",
       "      <td>2</td>\n",
       "      <td>16</td>\n",
       "    </tr>\n",
       "    <tr>\n",
       "      <th>2023-12-31 20:00:00</th>\n",
       "      <td>18</td>\n",
       "      <td>18</td>\n",
       "    </tr>\n",
       "    <tr>\n",
       "      <th>2023-12-31 21:00:00</th>\n",
       "      <td>9</td>\n",
       "      <td>11</td>\n",
       "    </tr>\n",
       "    <tr>\n",
       "      <th>2023-12-31 22:00:00</th>\n",
       "      <td>12</td>\n",
       "      <td>10</td>\n",
       "    </tr>\n",
       "    <tr>\n",
       "      <th>2023-12-31 23:00:00</th>\n",
       "      <td>10</td>\n",
       "      <td>13</td>\n",
       "    </tr>\n",
       "  </tbody>\n",
       "</table>\n",
       "<p>8760 rows × 2 columns</p>\n",
       "</div>"
      ],
      "text/plain": [
       "                     col1  col2\n",
       "2023-01-01 00:00:00     1     4\n",
       "2023-01-01 01:00:00     4    16\n",
       "2023-01-01 02:00:00     5    19\n",
       "2023-01-01 03:00:00    15     1\n",
       "2023-01-01 04:00:00     1     4\n",
       "...                   ...   ...\n",
       "2023-12-31 19:00:00     2    16\n",
       "2023-12-31 20:00:00    18    18\n",
       "2023-12-31 21:00:00     9    11\n",
       "2023-12-31 22:00:00    12    10\n",
       "2023-12-31 23:00:00    10    13\n",
       "\n",
       "[8760 rows x 2 columns]"
      ]
     },
     "execution_count": 2,
     "metadata": {},
     "output_type": "execute_result"
    }
   ],
   "source": [
    "# Menentukan jumlah baris (n_rows) dan kolom (n_cols) dalam data frame\n",
    "n_rows = 365 * 24\n",
    "n_cols = 2\n",
    "\n",
    "# Menentukan label kolom (cols) dalam data frame\n",
    "cols = ['col1', 'col2']\n",
    "\n",
    "# Membuat data frame dengan nilai acak dari 1 hingga 20, dengan jumlah baris dan kolom yang telah ditentukan\n",
    "df = pd.DataFrame(np.random.randint(1, 20, size=(n_rows, n_cols)),\n",
    "                  columns=cols)\n",
    "\n",
    "# Menggunakan pd.date_range untuk membuat indeks tanggal dengan frekuensi 'H' (jam)\n",
    "df.index = pd.date_range(start='2023-01-01', periods=n_rows, freq='H')\n",
    "\n",
    "# Menampilkan data frame yang telah dibuat\n",
    "df"
   ]
  },
  {
   "cell_type": "markdown",
   "metadata": {
    "id": "d2y9bzmhW5V7"
   },
   "source": [
    "# Resampling Data dengan Interval Monthly\n",
    "- Resampling di dalam time series, bisa diartikan sebagai pengelompokkkan ulang data berdasarkan interval waktu tertentu.\n",
    "- Dengan menyertakan parameter M dalam fungsi resample(), kita bisa mengubah hourly based jadi monthly based.\n",
    "- Data yang sudah di resample tidak bisa diakses per-individual ulang, tetapi data yang bisa kita akses adalah data agregasi.\n",
    "- Data agregasi yang dimaksud adalah data yang sudah dikenakan fungsi sum()"
   ]
  },
  {
   "cell_type": "code",
   "execution_count": 3,
   "metadata": {
    "colab": {
     "base_uri": "https://localhost:8080/",
     "height": 426
    },
    "id": "FYjw2IcYXLND",
    "outputId": "e0c47cf8-0bd3-4fd5-f0bb-a594644c0da2"
   },
   "outputs": [
    {
     "data": {
      "text/html": [
       "<div>\n",
       "<style scoped>\n",
       "    .dataframe tbody tr th:only-of-type {\n",
       "        vertical-align: middle;\n",
       "    }\n",
       "\n",
       "    .dataframe tbody tr th {\n",
       "        vertical-align: top;\n",
       "    }\n",
       "\n",
       "    .dataframe thead th {\n",
       "        text-align: right;\n",
       "    }\n",
       "</style>\n",
       "<table border=\"1\" class=\"dataframe\">\n",
       "  <thead>\n",
       "    <tr style=\"text-align: right;\">\n",
       "      <th></th>\n",
       "      <th>col1</th>\n",
       "    </tr>\n",
       "  </thead>\n",
       "  <tbody>\n",
       "    <tr>\n",
       "      <th>2023-01-31</th>\n",
       "      <td>7324</td>\n",
       "    </tr>\n",
       "    <tr>\n",
       "      <th>2023-02-28</th>\n",
       "      <td>6716</td>\n",
       "    </tr>\n",
       "    <tr>\n",
       "      <th>2023-03-31</th>\n",
       "      <td>7572</td>\n",
       "    </tr>\n",
       "    <tr>\n",
       "      <th>2023-04-30</th>\n",
       "      <td>7190</td>\n",
       "    </tr>\n",
       "    <tr>\n",
       "      <th>2023-05-31</th>\n",
       "      <td>7474</td>\n",
       "    </tr>\n",
       "    <tr>\n",
       "      <th>2023-06-30</th>\n",
       "      <td>7444</td>\n",
       "    </tr>\n",
       "    <tr>\n",
       "      <th>2023-07-31</th>\n",
       "      <td>7373</td>\n",
       "    </tr>\n",
       "    <tr>\n",
       "      <th>2023-08-31</th>\n",
       "      <td>7430</td>\n",
       "    </tr>\n",
       "    <tr>\n",
       "      <th>2023-09-30</th>\n",
       "      <td>7452</td>\n",
       "    </tr>\n",
       "    <tr>\n",
       "      <th>2023-10-31</th>\n",
       "      <td>7224</td>\n",
       "    </tr>\n",
       "    <tr>\n",
       "      <th>2023-11-30</th>\n",
       "      <td>7257</td>\n",
       "    </tr>\n",
       "    <tr>\n",
       "      <th>2023-12-31</th>\n",
       "      <td>7310</td>\n",
       "    </tr>\n",
       "  </tbody>\n",
       "</table>\n",
       "</div>"
      ],
      "text/plain": [
       "            col1\n",
       "2023-01-31  7324\n",
       "2023-02-28  6716\n",
       "2023-03-31  7572\n",
       "2023-04-30  7190\n",
       "2023-05-31  7474\n",
       "2023-06-30  7444\n",
       "2023-07-31  7373\n",
       "2023-08-31  7430\n",
       "2023-09-30  7452\n",
       "2023-10-31  7224\n",
       "2023-11-30  7257\n",
       "2023-12-31  7310"
      ]
     },
     "execution_count": 3,
     "metadata": {},
     "output_type": "execute_result"
    }
   ],
   "source": [
    "# Menggunakan metode resample pada data frame untuk mengelompokkan data berdasarkan frekuensi bulan ('M')\n",
    "df.resample('M')['col1'].sum().to_frame()"
   ]
  },
  {
   "cell_type": "markdown",
   "metadata": {
    "id": "bkCAYKcpXOk9"
   },
   "source": [
    "# Resampling Data dengan Interval Daily\n",
    "- Dengan menggunakan parameter D dalam fungsi resample(), kita bisa mengubah monthly based jadi daily based."
   ]
  },
  {
   "cell_type": "code",
   "execution_count": 4,
   "metadata": {
    "colab": {
     "base_uri": "https://localhost:8080/",
     "height": 424
    },
    "id": "N-H4VXuOXUKB",
    "outputId": "6c2fd3ac-bd36-41fe-e301-e297b7eff63f"
   },
   "outputs": [
    {
     "data": {
      "text/html": [
       "<div>\n",
       "<style scoped>\n",
       "    .dataframe tbody tr th:only-of-type {\n",
       "        vertical-align: middle;\n",
       "    }\n",
       "\n",
       "    .dataframe tbody tr th {\n",
       "        vertical-align: top;\n",
       "    }\n",
       "\n",
       "    .dataframe thead th {\n",
       "        text-align: right;\n",
       "    }\n",
       "</style>\n",
       "<table border=\"1\" class=\"dataframe\">\n",
       "  <thead>\n",
       "    <tr style=\"text-align: right;\">\n",
       "      <th></th>\n",
       "      <th>col1</th>\n",
       "    </tr>\n",
       "  </thead>\n",
       "  <tbody>\n",
       "    <tr>\n",
       "      <th>2023-01-01</th>\n",
       "      <td>236</td>\n",
       "    </tr>\n",
       "    <tr>\n",
       "      <th>2023-01-02</th>\n",
       "      <td>257</td>\n",
       "    </tr>\n",
       "    <tr>\n",
       "      <th>2023-01-03</th>\n",
       "      <td>278</td>\n",
       "    </tr>\n",
       "    <tr>\n",
       "      <th>2023-01-04</th>\n",
       "      <td>231</td>\n",
       "    </tr>\n",
       "    <tr>\n",
       "      <th>2023-01-05</th>\n",
       "      <td>233</td>\n",
       "    </tr>\n",
       "    <tr>\n",
       "      <th>...</th>\n",
       "      <td>...</td>\n",
       "    </tr>\n",
       "    <tr>\n",
       "      <th>2023-12-27</th>\n",
       "      <td>252</td>\n",
       "    </tr>\n",
       "    <tr>\n",
       "      <th>2023-12-28</th>\n",
       "      <td>252</td>\n",
       "    </tr>\n",
       "    <tr>\n",
       "      <th>2023-12-29</th>\n",
       "      <td>282</td>\n",
       "    </tr>\n",
       "    <tr>\n",
       "      <th>2023-12-30</th>\n",
       "      <td>202</td>\n",
       "    </tr>\n",
       "    <tr>\n",
       "      <th>2023-12-31</th>\n",
       "      <td>231</td>\n",
       "    </tr>\n",
       "  </tbody>\n",
       "</table>\n",
       "<p>365 rows × 1 columns</p>\n",
       "</div>"
      ],
      "text/plain": [
       "            col1\n",
       "2023-01-01   236\n",
       "2023-01-02   257\n",
       "2023-01-03   278\n",
       "2023-01-04   231\n",
       "2023-01-05   233\n",
       "...          ...\n",
       "2023-12-27   252\n",
       "2023-12-28   252\n",
       "2023-12-29   282\n",
       "2023-12-30   202\n",
       "2023-12-31   231\n",
       "\n",
       "[365 rows x 1 columns]"
      ]
     },
     "execution_count": 4,
     "metadata": {},
     "output_type": "execute_result"
    }
   ],
   "source": [
    "# Menggunakan metode resample pada data frame untuk mengelompokkan data berdasarkan frekuensi harian ('D')\n",
    "df.resample('D')['col1'].sum().to_frame()"
   ]
  },
  {
   "cell_type": "markdown",
   "metadata": {
    "id": "HAvKCvCWXar2"
   },
   "source": [
    "# **#18 Membentuk dummy Data Frame**\n",
    "Source : [Indonesia Belajar](https://youtu.be/JpvfG6in548)"
   ]
  },
  {
   "cell_type": "markdown",
   "metadata": {
    "id": "LqLJaGK7Xihw"
   },
   "source": [
    "# Import Modules"
   ]
  },
  {
   "cell_type": "code",
   "execution_count": 5,
   "metadata": {
    "colab": {
     "base_uri": "https://localhost:8080/"
    },
    "id": "5csXS5ywXmTS",
    "outputId": "30c50b93-bd60-4999-8ec4-f2079ce97927"
   },
   "outputs": [
    {
     "name": "stdout",
     "output_type": "stream",
     "text": [
      "2.1.1\n",
      "1.24.2\n"
     ]
    }
   ],
   "source": [
    "import pandas as pd\n",
    "import numpy as np\n",
    "\n",
    "print(pd.__version__)\n",
    "print(np.__version__)"
   ]
  },
  {
   "cell_type": "markdown",
   "metadata": {
    "id": "Aw-zWTsSXpND"
   },
   "source": [
    "# Membentuk Data Frame dari Dictionary\n",
    "- Menggunakan dictionary. Dimana keys akan menjadi nama kolom dan value akan menjadi nilai dari kolom."
   ]
  },
  {
   "cell_type": "code",
   "execution_count": 6,
   "metadata": {
    "colab": {
     "base_uri": "https://localhost:8080/",
     "height": 175
    },
    "id": "_CfINfoIXtHj",
    "outputId": "b535f94b-5b79-4dcf-e2db-0e3ed6a5aaa3"
   },
   "outputs": [
    {
     "data": {
      "text/html": [
       "<div>\n",
       "<style scoped>\n",
       "    .dataframe tbody tr th:only-of-type {\n",
       "        vertical-align: middle;\n",
       "    }\n",
       "\n",
       "    .dataframe tbody tr th {\n",
       "        vertical-align: top;\n",
       "    }\n",
       "\n",
       "    .dataframe thead th {\n",
       "        text-align: right;\n",
       "    }\n",
       "</style>\n",
       "<table border=\"1\" class=\"dataframe\">\n",
       "  <thead>\n",
       "    <tr style=\"text-align: right;\">\n",
       "      <th></th>\n",
       "      <th>col1</th>\n",
       "      <th>col2</th>\n",
       "    </tr>\n",
       "  </thead>\n",
       "  <tbody>\n",
       "    <tr>\n",
       "      <th>0</th>\n",
       "      <td>1</td>\n",
       "      <td>5</td>\n",
       "    </tr>\n",
       "    <tr>\n",
       "      <th>1</th>\n",
       "      <td>2</td>\n",
       "      <td>6</td>\n",
       "    </tr>\n",
       "    <tr>\n",
       "      <th>2</th>\n",
       "      <td>3</td>\n",
       "      <td>7</td>\n",
       "    </tr>\n",
       "    <tr>\n",
       "      <th>3</th>\n",
       "      <td>4</td>\n",
       "      <td>8</td>\n",
       "    </tr>\n",
       "  </tbody>\n",
       "</table>\n",
       "</div>"
      ],
      "text/plain": [
       "   col1  col2\n",
       "0     1     5\n",
       "1     2     6\n",
       "2     3     7\n",
       "3     4     8"
      ]
     },
     "execution_count": 6,
     "metadata": {},
     "output_type": "execute_result"
    }
   ],
   "source": [
    "pd.DataFrame({'col1':[1, 2, 3, 4], \n",
    "              'col2':[5, 6, 7, 8]})"
   ]
  },
  {
   "cell_type": "markdown",
   "metadata": {
    "id": "tYZnj624Xv93"
   },
   "source": [
    "# Membentuk Data Frame dari Numpy Array\n",
    "- Pertama tentukan jumlah baris dan kolom.\n",
    "- Generate random integer untuk baris dan kolom tersebut.\n",
    "- Simpan kedalam suatu variabel.\n",
    "- Masukkan kedalam dataframe.\n",
    "- Karena numpy array tidak memiliki nama label, pada kasus kali ini kita menggunakan fungsi tuple untuk nama tabel."
   ]
  },
  {
   "cell_type": "code",
   "execution_count": 7,
   "metadata": {
    "colab": {
     "base_uri": "https://localhost:8080/"
    },
    "id": "bCTd-_vGXvZ6",
    "outputId": "b31558dd-dcfc-495a-8968-c59d001c4599"
   },
   "outputs": [
    {
     "data": {
      "text/plain": [
       "array([[12, 10, 15],\n",
       "       [ 6,  4,  7],\n",
       "       [ 8, 17,  8],\n",
       "       [ 5, 15, 10],\n",
       "       [18,  7,  1]])"
      ]
     },
     "execution_count": 7,
     "metadata": {},
     "output_type": "execute_result"
    }
   ],
   "source": [
    "# Menentukan jumlah baris (n_rows) dan kolom (n_cols) dalam array\n",
    "n_rows = 5\n",
    "n_cols = 3\n",
    "\n",
    "# Menghasilkan array 2D dengan nilai acak dari 1 hingga 20\n",
    "arr = np.random.randint(1, 20, size=(n_rows, n_cols))\n",
    "\n",
    "# Menampilkan array yang telah dibuat\n",
    "arr"
   ]
  },
  {
   "cell_type": "code",
   "execution_count": 8,
   "metadata": {
    "colab": {
     "base_uri": "https://localhost:8080/",
     "height": 206
    },
    "id": "O-0J6lZ4X6lg",
    "outputId": "02b87257-ddf4-4dfd-d67a-38df48191500"
   },
   "outputs": [],
   "source": [
    "# Menggunakan library pandas untuk membuat data frame dari array (arr)\n",
    "# Menetapkan label kolom 'A', 'B', dan 'C' pada data frame menggunakan tuple('ABC')\n",
    "df = pd.DataFrame(arr, columns=tuple('ABC'))"
   ]
  },
  {
   "cell_type": "markdown",
   "metadata": {
    "id": "yPRaCRB3X9-5"
   },
   "source": [
    "# Membentuk Data Frame dengan Memanfaatkan pandas.util.testing\n",
    "1. Membuat dummy dataframe"
   ]
  },
  {
   "cell_type": "code",
   "execution_count": 9,
   "metadata": {
    "colab": {
     "base_uri": "https://localhost:8080/",
     "height": 206
    },
    "id": "9-RW2yb6YGo7",
    "outputId": "e320138b-a948-4720-cf56-a7b0858d8a0c"
   },
   "outputs": [
    {
     "name": "stdout",
     "output_type": "stream",
     "text": [
      "        Date  value\n",
      "0 2023-01-01     81\n",
      "1 2023-01-02     74\n",
      "2 2023-01-03     58\n",
      "3 2023-01-04     76\n",
      "4 2023-01-05     22\n"
     ]
    }
   ],
   "source": [
    "# Membuat data frame dummy dengan waktu menggunakan pd.date_range\n",
    "# dan menambahkan kolom dengan nilai acak menggunakan numpy\n",
    "date_rng = pd.date_range(start='2023-01-01', end='2023-01-05', freq='D')\n",
    "df = pd.DataFrame(date_rng, columns=['Date'])\n",
    "df['value'] = np.random.randint(1, 100, size=(len(date_rng)))\n",
    "\n",
    "# Menampilkan lima data awal dari data frame\n",
    "result = df.reset_index(drop=True)\n",
    "print(result)"
   ]
  },
  {
   "cell_type": "markdown",
   "metadata": {
    "id": "rdfdsaNtYINg"
   },
   "source": [
    "2. Membuat dummy dataframe dengan tipe data yang berbeda"
   ]
  },
  {
   "cell_type": "code",
   "execution_count": 10,
   "metadata": {
    "colab": {
     "base_uri": "https://localhost:8080/",
     "height": 206
    },
    "id": "X9KjuSRFYKcs",
    "outputId": "1136d115-bf82-496d-fa2a-f924824156f4"
   },
   "outputs": [
    {
     "data": {
      "text/html": [
       "<div>\n",
       "<style scoped>\n",
       "    .dataframe tbody tr th:only-of-type {\n",
       "        vertical-align: middle;\n",
       "    }\n",
       "\n",
       "    .dataframe tbody tr th {\n",
       "        vertical-align: top;\n",
       "    }\n",
       "\n",
       "    .dataframe thead th {\n",
       "        text-align: right;\n",
       "    }\n",
       "</style>\n",
       "<table border=\"1\" class=\"dataframe\">\n",
       "  <thead>\n",
       "    <tr style=\"text-align: right;\">\n",
       "      <th></th>\n",
       "      <th>col1</th>\n",
       "      <th>col2</th>\n",
       "      <th>col3</th>\n",
       "      <th>col4</th>\n",
       "      <th>col5</th>\n",
       "    </tr>\n",
       "  </thead>\n",
       "  <tbody>\n",
       "    <tr>\n",
       "      <th>0</th>\n",
       "      <td>10</td>\n",
       "      <td>0.161284</td>\n",
       "      <td>A</td>\n",
       "      <td>2023-01-01</td>\n",
       "      <td>True</td>\n",
       "    </tr>\n",
       "    <tr>\n",
       "      <th>1</th>\n",
       "      <td>52</td>\n",
       "      <td>0.696449</td>\n",
       "      <td>B</td>\n",
       "      <td>2023-01-02</td>\n",
       "      <td>False</td>\n",
       "    </tr>\n",
       "    <tr>\n",
       "      <th>2</th>\n",
       "      <td>98</td>\n",
       "      <td>0.876159</td>\n",
       "      <td>C</td>\n",
       "      <td>2023-01-03</td>\n",
       "      <td>True</td>\n",
       "    </tr>\n",
       "    <tr>\n",
       "      <th>3</th>\n",
       "      <td>44</td>\n",
       "      <td>0.637030</td>\n",
       "      <td>D</td>\n",
       "      <td>2023-01-04</td>\n",
       "      <td>False</td>\n",
       "    </tr>\n",
       "    <tr>\n",
       "      <th>4</th>\n",
       "      <td>41</td>\n",
       "      <td>0.658800</td>\n",
       "      <td>E</td>\n",
       "      <td>2023-01-05</td>\n",
       "      <td>True</td>\n",
       "    </tr>\n",
       "  </tbody>\n",
       "</table>\n",
       "</div>"
      ],
      "text/plain": [
       "   col1      col2 col3       col4   col5\n",
       "0    10  0.161284    A 2023-01-01   True\n",
       "1    52  0.696449    B 2023-01-02  False\n",
       "2    98  0.876159    C 2023-01-03   True\n",
       "3    44  0.637030    D 2023-01-04  False\n",
       "4    41  0.658800    E 2023-01-05   True"
      ]
     },
     "execution_count": 10,
     "metadata": {},
     "output_type": "execute_result"
    }
   ],
   "source": [
    "# Membuat dummy dataframe dengan tipe data yang berbeda\n",
    "data = {\n",
    "    'col1': np.random.randint(1, 100, size=5),\n",
    "    'col2': np.random.rand(5),\n",
    "    'col3': ['A', 'B', 'C', 'D', 'E'],\n",
    "    'col4': pd.date_range(start='2023-01-01', periods=5, freq='D'),\n",
    "    'col5': [True, False, True, False, True]\n",
    "}\n",
    "\n",
    "# Membuat dataframe dari kamus data\n",
    "df = pd.DataFrame(data)\n",
    "\n",
    "# Menampilkan lima data awal dari dataframe\n",
    "df.head()"
   ]
  },
  {
   "cell_type": "markdown",
   "metadata": {
    "id": "ECTwKiELYL2p"
   },
   "source": [
    "3. Membuat dummy dataframe yang berisi time series data"
   ]
  },
  {
   "cell_type": "code",
   "execution_count": 11,
   "metadata": {
    "colab": {
     "base_uri": "https://localhost:8080/",
     "height": 206
    },
    "id": "s_lzvbj-YORC",
    "outputId": "72e159c6-70d1-4dba-8631-572bea174e1e"
   },
   "outputs": [
    {
     "data": {
      "text/html": [
       "<div>\n",
       "<style scoped>\n",
       "    .dataframe tbody tr th:only-of-type {\n",
       "        vertical-align: middle;\n",
       "    }\n",
       "\n",
       "    .dataframe tbody tr th {\n",
       "        vertical-align: top;\n",
       "    }\n",
       "\n",
       "    .dataframe thead th {\n",
       "        text-align: right;\n",
       "    }\n",
       "</style>\n",
       "<table border=\"1\" class=\"dataframe\">\n",
       "  <thead>\n",
       "    <tr style=\"text-align: right;\">\n",
       "      <th></th>\n",
       "      <th>A</th>\n",
       "      <th>B</th>\n",
       "      <th>C</th>\n",
       "      <th>D</th>\n",
       "    </tr>\n",
       "  </thead>\n",
       "  <tbody>\n",
       "    <tr>\n",
       "      <th>2000-01-03</th>\n",
       "      <td>-0.736360</td>\n",
       "      <td>-0.456435</td>\n",
       "      <td>0.554260</td>\n",
       "      <td>-0.232226</td>\n",
       "    </tr>\n",
       "    <tr>\n",
       "      <th>2000-01-04</th>\n",
       "      <td>1.648071</td>\n",
       "      <td>0.278885</td>\n",
       "      <td>-0.636215</td>\n",
       "      <td>1.196401</td>\n",
       "    </tr>\n",
       "    <tr>\n",
       "      <th>2000-01-05</th>\n",
       "      <td>0.643444</td>\n",
       "      <td>0.964064</td>\n",
       "      <td>-1.249190</td>\n",
       "      <td>-1.078904</td>\n",
       "    </tr>\n",
       "    <tr>\n",
       "      <th>2000-01-06</th>\n",
       "      <td>0.916769</td>\n",
       "      <td>0.097315</td>\n",
       "      <td>-1.446029</td>\n",
       "      <td>-0.915920</td>\n",
       "    </tr>\n",
       "    <tr>\n",
       "      <th>2000-01-07</th>\n",
       "      <td>0.619339</td>\n",
       "      <td>-0.118122</td>\n",
       "      <td>0.049548</td>\n",
       "      <td>-0.434976</td>\n",
       "    </tr>\n",
       "  </tbody>\n",
       "</table>\n",
       "</div>"
      ],
      "text/plain": [
       "                   A         B         C         D\n",
       "2000-01-03 -0.736360 -0.456435  0.554260 -0.232226\n",
       "2000-01-04  1.648071  0.278885 -0.636215  1.196401\n",
       "2000-01-05  0.643444  0.964064 -1.249190 -1.078904\n",
       "2000-01-06  0.916769  0.097315 -1.446029 -0.915920\n",
       "2000-01-07  0.619339 -0.118122  0.049548 -0.434976"
      ]
     },
     "execution_count": 11,
     "metadata": {},
     "output_type": "execute_result"
    }
   ],
   "source": [
    "# Membuat indeks dengan deret waktu menggunakan pd.date_range\n",
    "date_index = pd.date_range(start='2000-01-03', periods=5, freq='D')\n",
    "\n",
    "# Membuat dataframe dengan nilai acak\n",
    "df = pd.DataFrame(np.random.randn(5, 4), index=date_index, columns=['A', 'B', 'C', 'D'])\n",
    "\n",
    "# Menampilkan lima data awal dari dataframe\n",
    "df.head()"
   ]
  },
  {
   "cell_type": "markdown",
   "metadata": {
    "id": "z_yxGn-WYP67"
   },
   "source": [
    "4. Membuat dummy dataframe dengan beberapa missing value yang ditempatkan secara acak"
   ]
  },
  {
   "cell_type": "code",
   "execution_count": 12,
   "metadata": {
    "colab": {
     "base_uri": "https://localhost:8080/",
     "height": 206
    },
    "id": "fOw3WQGcYTQQ",
    "outputId": "151356af-787d-4c94-d0a6-9c84acd5e55f"
   },
   "outputs": [
    {
     "data": {
      "text/html": [
       "<div>\n",
       "<style scoped>\n",
       "    .dataframe tbody tr th:only-of-type {\n",
       "        vertical-align: middle;\n",
       "    }\n",
       "\n",
       "    .dataframe tbody tr th {\n",
       "        vertical-align: top;\n",
       "    }\n",
       "\n",
       "    .dataframe thead th {\n",
       "        text-align: right;\n",
       "    }\n",
       "</style>\n",
       "<table border=\"1\" class=\"dataframe\">\n",
       "  <thead>\n",
       "    <tr style=\"text-align: right;\">\n",
       "      <th></th>\n",
       "      <th>A</th>\n",
       "      <th>B</th>\n",
       "      <th>C</th>\n",
       "      <th>D</th>\n",
       "    </tr>\n",
       "  </thead>\n",
       "  <tbody>\n",
       "    <tr>\n",
       "      <th>WmDnD0VgHq</th>\n",
       "      <td>1.140141</td>\n",
       "      <td>0.743373</td>\n",
       "      <td>0.559723</td>\n",
       "      <td>1.001264</td>\n",
       "    </tr>\n",
       "    <tr>\n",
       "      <th>oK5aIeQDwO</th>\n",
       "      <td>0.600068</td>\n",
       "      <td>NaN</td>\n",
       "      <td>0.997585</td>\n",
       "      <td>NaN</td>\n",
       "    </tr>\n",
       "    <tr>\n",
       "      <th>kRIH8XgQXB</th>\n",
       "      <td>0.816349</td>\n",
       "      <td>-1.550421</td>\n",
       "      <td>2.004505</td>\n",
       "      <td>-2.147276</td>\n",
       "    </tr>\n",
       "    <tr>\n",
       "      <th>xOQltmT4oD</th>\n",
       "      <td>-0.770811</td>\n",
       "      <td>1.407143</td>\n",
       "      <td>0.342782</td>\n",
       "      <td>NaN</td>\n",
       "    </tr>\n",
       "    <tr>\n",
       "      <th>6QBa6ZnCaP</th>\n",
       "      <td>-1.988255</td>\n",
       "      <td>-1.054597</td>\n",
       "      <td>-0.999648</td>\n",
       "      <td>NaN</td>\n",
       "    </tr>\n",
       "  </tbody>\n",
       "</table>\n",
       "</div>"
      ],
      "text/plain": [
       "                   A         B         C         D\n",
       "WmDnD0VgHq  1.140141  0.743373  0.559723  1.001264\n",
       "oK5aIeQDwO  0.600068       NaN  0.997585       NaN\n",
       "kRIH8XgQXB  0.816349 -1.550421  2.004505 -2.147276\n",
       "xOQltmT4oD -0.770811  1.407143  0.342782       NaN\n",
       "6QBa6ZnCaP -1.988255 -1.054597 -0.999648       NaN"
      ]
     },
     "execution_count": 12,
     "metadata": {},
     "output_type": "execute_result"
    }
   ],
   "source": [
    "# Membuat indeks dan kolom untuk dataframe\n",
    "index = ['WmDnD0VgHq', 'oK5aIeQDwO', 'kRIH8XgQXB', 'xOQltmT4oD', '6QBa6ZnCaP']\n",
    "columns = ['A', 'B', 'C', 'D']\n",
    "\n",
    "# Membuat dataframe dengan nilai acak\n",
    "df = pd.DataFrame(np.random.randn(5, 4), index=index, columns=columns)\n",
    "\n",
    "# Menetapkan beberapa nilai sebagai NaN secara acak\n",
    "random_indices = np.random.choice(df.size, replace=False, size=int(df.size * 0.2))\n",
    "df.values.flat[random_indices] = np.nan\n",
    "\n",
    "# Menampilkan lima data awal dari dataframe\n",
    "df.head()"
   ]
  },
  {
   "cell_type": "markdown",
   "metadata": {
    "id": "Bl6ZkYSFYV1i"
   },
   "source": [
    "# **#19 Formatting tampilan Data Frame**\n",
    "Source : [Indonesia Belajar](https://youtu.be/ySKDbYXFN2M)"
   ]
  },
  {
   "cell_type": "markdown",
   "metadata": {
    "id": "oCMMlG1SYdOS"
   },
   "source": [
    "# Import Modules"
   ]
  },
  {
   "cell_type": "code",
   "execution_count": 13,
   "metadata": {
    "colab": {
     "base_uri": "https://localhost:8080/"
    },
    "id": "bRafqAmvYjhJ",
    "outputId": "44b82d6d-4c81-4c6a-9595-80a66e81e0bd"
   },
   "outputs": [
    {
     "name": "stdout",
     "output_type": "stream",
     "text": [
      "2.1.1\n",
      "1.24.2\n"
     ]
    }
   ],
   "source": [
    "import pandas as pd\n",
    "import numpy as np\n",
    "\n",
    "print(pd.__version__)\n",
    "print(np.__version__)"
   ]
  },
  {
   "cell_type": "markdown",
   "metadata": {
    "id": "TJUGKEkEYpRx"
   },
   "source": [
    "# Persiapan Data Frame"
   ]
  },
  {
   "cell_type": "code",
   "execution_count": 14,
   "metadata": {
    "colab": {
     "base_uri": "https://localhost:8080/",
     "height": 206
    },
    "id": "4EIgLpdoYrlU",
    "outputId": "446d5f79-48ef-4705-c7d9-02743fb7743a"
   },
   "outputs": [
    {
     "data": {
      "text/html": [
       "<div>\n",
       "<style scoped>\n",
       "    .dataframe tbody tr th:only-of-type {\n",
       "        vertical-align: middle;\n",
       "    }\n",
       "\n",
       "    .dataframe tbody tr th {\n",
       "        vertical-align: top;\n",
       "    }\n",
       "\n",
       "    .dataframe thead th {\n",
       "        text-align: right;\n",
       "    }\n",
       "</style>\n",
       "<table border=\"1\" class=\"dataframe\">\n",
       "  <thead>\n",
       "    <tr style=\"text-align: right;\">\n",
       "      <th></th>\n",
       "      <th>omset</th>\n",
       "      <th>operasional</th>\n",
       "    </tr>\n",
       "  </thead>\n",
       "  <tbody>\n",
       "    <tr>\n",
       "      <th>0</th>\n",
       "      <td>6</td>\n",
       "      <td>16</td>\n",
       "    </tr>\n",
       "    <tr>\n",
       "      <th>1</th>\n",
       "      <td>6</td>\n",
       "      <td>5</td>\n",
       "    </tr>\n",
       "    <tr>\n",
       "      <th>2</th>\n",
       "      <td>5</td>\n",
       "      <td>7</td>\n",
       "    </tr>\n",
       "    <tr>\n",
       "      <th>3</th>\n",
       "      <td>2</td>\n",
       "      <td>13</td>\n",
       "    </tr>\n",
       "    <tr>\n",
       "      <th>4</th>\n",
       "      <td>10</td>\n",
       "      <td>11</td>\n",
       "    </tr>\n",
       "  </tbody>\n",
       "</table>\n",
       "</div>"
      ],
      "text/plain": [
       "   omset  operasional\n",
       "0      6           16\n",
       "1      6            5\n",
       "2      5            7\n",
       "3      2           13\n",
       "4     10           11"
      ]
     },
     "execution_count": 14,
     "metadata": {},
     "output_type": "execute_result"
    }
   ],
   "source": [
    "n_rows = 5\n",
    "n_cols = 2\n",
    "cols = ['omset', 'operasional']\n",
    "\n",
    "df = pd.DataFrame(np.random.randint(1, 20, size=(n_rows, n_cols)), \n",
    "                  columns=cols)\n",
    "df"
   ]
  },
  {
   "cell_type": "markdown",
   "metadata": {
    "id": "qBYIqQclY4FC"
   },
   "source": [
    "- Konversi omset dan operasional menjadi rupiah.\n",
    "- Underscore dalam python tidak akan membuat bilangan menjadi error, itu hanya digunakan untuk membantu membaca bilangan."
   ]
  },
  {
   "cell_type": "code",
   "execution_count": 15,
   "metadata": {
    "colab": {
     "base_uri": "https://localhost:8080/",
     "height": 206
    },
    "id": "qFuxBrxEY7I1",
    "outputId": "58bf0d6d-024f-42db-aae7-9e77569ab687"
   },
   "outputs": [
    {
     "data": {
      "text/html": [
       "<div>\n",
       "<style scoped>\n",
       "    .dataframe tbody tr th:only-of-type {\n",
       "        vertical-align: middle;\n",
       "    }\n",
       "\n",
       "    .dataframe tbody tr th {\n",
       "        vertical-align: top;\n",
       "    }\n",
       "\n",
       "    .dataframe thead th {\n",
       "        text-align: right;\n",
       "    }\n",
       "</style>\n",
       "<table border=\"1\" class=\"dataframe\">\n",
       "  <thead>\n",
       "    <tr style=\"text-align: right;\">\n",
       "      <th></th>\n",
       "      <th>omset</th>\n",
       "      <th>operasional</th>\n",
       "    </tr>\n",
       "  </thead>\n",
       "  <tbody>\n",
       "    <tr>\n",
       "      <th>0</th>\n",
       "      <td>600000</td>\n",
       "      <td>160000</td>\n",
       "    </tr>\n",
       "    <tr>\n",
       "      <th>1</th>\n",
       "      <td>600000</td>\n",
       "      <td>50000</td>\n",
       "    </tr>\n",
       "    <tr>\n",
       "      <th>2</th>\n",
       "      <td>500000</td>\n",
       "      <td>70000</td>\n",
       "    </tr>\n",
       "    <tr>\n",
       "      <th>3</th>\n",
       "      <td>200000</td>\n",
       "      <td>130000</td>\n",
       "    </tr>\n",
       "    <tr>\n",
       "      <th>4</th>\n",
       "      <td>1000000</td>\n",
       "      <td>110000</td>\n",
       "    </tr>\n",
       "  </tbody>\n",
       "</table>\n",
       "</div>"
      ],
      "text/plain": [
       "     omset  operasional\n",
       "0   600000       160000\n",
       "1   600000        50000\n",
       "2   500000        70000\n",
       "3   200000       130000\n",
       "4  1000000       110000"
      ]
     },
     "execution_count": 15,
     "metadata": {},
     "output_type": "execute_result"
    }
   ],
   "source": [
    "df['omset'] = df['omset'] * 100_000\n",
    "df['operasional'] = df['operasional'] * 10_000\n",
    "df"
   ]
  },
  {
   "cell_type": "markdown",
   "metadata": {
    "id": "rPN1nYljY8q-"
   },
   "source": [
    "- Membuat kolom tanggal\n",
    "- Diisi dengan menggunakan fungsi generate dengan frequensi daily based."
   ]
  },
  {
   "cell_type": "code",
   "execution_count": 16,
   "metadata": {
    "colab": {
     "base_uri": "https://localhost:8080/",
     "height": 206
    },
    "id": "Y00Bkh8bZAxG",
    "outputId": "f154d056-e45a-4f11-82a1-4ef6c1d65b7f"
   },
   "outputs": [
    {
     "data": {
      "text/html": [
       "<div>\n",
       "<style scoped>\n",
       "    .dataframe tbody tr th:only-of-type {\n",
       "        vertical-align: middle;\n",
       "    }\n",
       "\n",
       "    .dataframe tbody tr th {\n",
       "        vertical-align: top;\n",
       "    }\n",
       "\n",
       "    .dataframe thead th {\n",
       "        text-align: right;\n",
       "    }\n",
       "</style>\n",
       "<table border=\"1\" class=\"dataframe\">\n",
       "  <thead>\n",
       "    <tr style=\"text-align: right;\">\n",
       "      <th></th>\n",
       "      <th>tanggal</th>\n",
       "      <th>omset</th>\n",
       "      <th>operasional</th>\n",
       "    </tr>\n",
       "  </thead>\n",
       "  <tbody>\n",
       "    <tr>\n",
       "      <th>0</th>\n",
       "      <td>2000-01-01</td>\n",
       "      <td>600000</td>\n",
       "      <td>160000</td>\n",
       "    </tr>\n",
       "    <tr>\n",
       "      <th>1</th>\n",
       "      <td>2000-01-02</td>\n",
       "      <td>600000</td>\n",
       "      <td>50000</td>\n",
       "    </tr>\n",
       "    <tr>\n",
       "      <th>2</th>\n",
       "      <td>2000-01-03</td>\n",
       "      <td>500000</td>\n",
       "      <td>70000</td>\n",
       "    </tr>\n",
       "    <tr>\n",
       "      <th>3</th>\n",
       "      <td>2000-01-04</td>\n",
       "      <td>200000</td>\n",
       "      <td>130000</td>\n",
       "    </tr>\n",
       "    <tr>\n",
       "      <th>4</th>\n",
       "      <td>2000-01-05</td>\n",
       "      <td>1000000</td>\n",
       "      <td>110000</td>\n",
       "    </tr>\n",
       "  </tbody>\n",
       "</table>\n",
       "</div>"
      ],
      "text/plain": [
       "     tanggal    omset  operasional\n",
       "0 2000-01-01   600000       160000\n",
       "1 2000-01-02   600000        50000\n",
       "2 2000-01-03   500000        70000\n",
       "3 2000-01-04   200000       130000\n",
       "4 2000-01-05  1000000       110000"
      ]
     },
     "execution_count": 16,
     "metadata": {},
     "output_type": "execute_result"
    }
   ],
   "source": [
    "# Menambahkan kolom 'tanggal'\n",
    "start_date = pd.to_datetime('2000-01-01')\n",
    "df['tanggal'] = pd.date_range(start=start_date, periods=n_rows)\n",
    "\n",
    "# Reorder columns to match the desired order\n",
    "df = df[['tanggal', 'omset', 'operasional']]\n",
    "\n",
    "# Display the DataFrame\n",
    "df"
   ]
  },
  {
   "cell_type": "markdown",
   "metadata": {
    "id": "AO7eObsqZFpV"
   },
   "source": [
    "# Melakukan formatting tampilan Data Frame\n",
    "- Gunakan dictionary dan tampung kedalam variabel.\n",
    "- Untuk setiap key disesuaikan dengan nama kolomnya, tetapi urutannya bebas.\n",
    "- Formatting menggunakan tipe data string.\n",
    "- :.2f digunakan untuk menyertakan 2 digit exstra di belakang koma."
   ]
  },
  {
   "cell_type": "code",
   "execution_count": 17,
   "metadata": {
    "colab": {
     "base_uri": "https://localhost:8080/",
     "height": 206
    },
    "id": "BeE6DZ-WZNNR",
    "outputId": "1abfda6e-e806-4940-ee6e-3b72fc8b655d"
   },
   "outputs": [
    {
     "data": {
      "text/html": [
       "<style type=\"text/css\">\n",
       "</style>\n",
       "<table id=\"T_d1b28\">\n",
       "  <thead>\n",
       "    <tr>\n",
       "      <th class=\"blank level0\" >&nbsp;</th>\n",
       "      <th id=\"T_d1b28_level0_col0\" class=\"col_heading level0 col0\" >tanggal</th>\n",
       "      <th id=\"T_d1b28_level0_col1\" class=\"col_heading level0 col1\" >omset</th>\n",
       "      <th id=\"T_d1b28_level0_col2\" class=\"col_heading level0 col2\" >operasional</th>\n",
       "    </tr>\n",
       "  </thead>\n",
       "  <tbody>\n",
       "    <tr>\n",
       "      <th id=\"T_d1b28_level0_row0\" class=\"row_heading level0 row0\" >0</th>\n",
       "      <td id=\"T_d1b28_row0_col0\" class=\"data row0 col0\" >01/01/00</td>\n",
       "      <td id=\"T_d1b28_row0_col1\" class=\"data row0 col1\" >Rp 600000.00</td>\n",
       "      <td id=\"T_d1b28_row0_col2\" class=\"data row0 col2\" >Rp 160000.00</td>\n",
       "    </tr>\n",
       "    <tr>\n",
       "      <th id=\"T_d1b28_level0_row1\" class=\"row_heading level0 row1\" >1</th>\n",
       "      <td id=\"T_d1b28_row1_col0\" class=\"data row1 col0\" >02/01/00</td>\n",
       "      <td id=\"T_d1b28_row1_col1\" class=\"data row1 col1\" >Rp 600000.00</td>\n",
       "      <td id=\"T_d1b28_row1_col2\" class=\"data row1 col2\" >Rp 50000.00</td>\n",
       "    </tr>\n",
       "    <tr>\n",
       "      <th id=\"T_d1b28_level0_row2\" class=\"row_heading level0 row2\" >2</th>\n",
       "      <td id=\"T_d1b28_row2_col0\" class=\"data row2 col0\" >03/01/00</td>\n",
       "      <td id=\"T_d1b28_row2_col1\" class=\"data row2 col1\" >Rp 500000.00</td>\n",
       "      <td id=\"T_d1b28_row2_col2\" class=\"data row2 col2\" >Rp 70000.00</td>\n",
       "    </tr>\n",
       "    <tr>\n",
       "      <th id=\"T_d1b28_level0_row3\" class=\"row_heading level0 row3\" >3</th>\n",
       "      <td id=\"T_d1b28_row3_col0\" class=\"data row3 col0\" >04/01/00</td>\n",
       "      <td id=\"T_d1b28_row3_col1\" class=\"data row3 col1\" >Rp 200000.00</td>\n",
       "      <td id=\"T_d1b28_row3_col2\" class=\"data row3 col2\" >Rp 130000.00</td>\n",
       "    </tr>\n",
       "    <tr>\n",
       "      <th id=\"T_d1b28_level0_row4\" class=\"row_heading level0 row4\" >4</th>\n",
       "      <td id=\"T_d1b28_row4_col0\" class=\"data row4 col0\" >05/01/00</td>\n",
       "      <td id=\"T_d1b28_row4_col1\" class=\"data row4 col1\" >Rp 1000000.00</td>\n",
       "      <td id=\"T_d1b28_row4_col2\" class=\"data row4 col2\" >Rp 110000.00</td>\n",
       "    </tr>\n",
       "  </tbody>\n",
       "</table>\n"
      ],
      "text/plain": [
       "<pandas.io.formats.style.Styler at 0x1e3e8797e20>"
      ]
     },
     "execution_count": 17,
     "metadata": {},
     "output_type": "execute_result"
    }
   ],
   "source": [
    "# Format yang akan digunakan untuk menampilkan DataFrame\n",
    "formatku = {'tanggal': '{:%d/%m/%y}', 'operasional': 'Rp {:.2f}', 'omset': 'Rp {:.2f}'}\n",
    "\n",
    "# Membuat objek Styler untuk DataFrame dengan format yang ditentukan\n",
    "laporan = df.style.format(formatku)\n",
    "\n",
    "# Menampilkan objek Styler, bukan objek DataFrame\n",
    "laporan"
   ]
  },
  {
   "cell_type": "markdown",
   "metadata": {
    "id": "mG1vrIqXep4L"
   },
   "source": [
    "- Variabel laporan bukan objek dataframe\n",
    "- Objek dataframe tetaplah df"
   ]
  },
  {
   "cell_type": "code",
   "execution_count": 18,
   "metadata": {
    "colab": {
     "base_uri": "https://localhost:8080/"
    },
    "id": "AdgYD7hOev9z",
    "outputId": "6b9b5d5f-0e38-4170-c7ac-0d183589a087"
   },
   "outputs": [
    {
     "data": {
      "text/plain": [
       "pandas.io.formats.style.Styler"
      ]
     },
     "execution_count": 18,
     "metadata": {},
     "output_type": "execute_result"
    }
   ],
   "source": [
    "# Menampilkan tipe data dari objek Styler\n",
    "type(laporan)"
   ]
  },
  {
   "cell_type": "markdown",
   "metadata": {
    "id": "6lh4OmIcezM6"
   },
   "source": [
    "Menghilangkan index (0, 1, ...)."
   ]
  },
  {
   "cell_type": "code",
   "execution_count": 19,
   "metadata": {
    "colab": {
     "base_uri": "https://localhost:8080/",
     "height": 206
    },
    "id": "_gZEVpoMe1uV",
    "outputId": "7723e339-3032-44e5-ae77-433e5de73f41"
   },
   "outputs": [
    {
     "data": {
      "text/html": [
       "<style type=\"text/css\">\n",
       "</style>\n",
       "<table id=\"T_a7f95\">\n",
       "  <thead>\n",
       "    <tr>\n",
       "      <th class=\"blank level0\" >&nbsp;</th>\n",
       "      <th id=\"T_a7f95_level0_col0\" class=\"col_heading level0 col0\" >tanggal</th>\n",
       "      <th id=\"T_a7f95_level0_col1\" class=\"col_heading level0 col1\" >omset</th>\n",
       "      <th id=\"T_a7f95_level0_col2\" class=\"col_heading level0 col2\" >operasional</th>\n",
       "    </tr>\n",
       "  </thead>\n",
       "  <tbody>\n",
       "    <tr>\n",
       "      <th id=\"T_a7f95_level0_row0\" class=\"row_heading level0 row0\" ></th>\n",
       "      <td id=\"T_a7f95_row0_col0\" class=\"data row0 col0\" >01/01/00</td>\n",
       "      <td id=\"T_a7f95_row0_col1\" class=\"data row0 col1\" >Rp 600000.00</td>\n",
       "      <td id=\"T_a7f95_row0_col2\" class=\"data row0 col2\" >Rp 160000.00</td>\n",
       "    </tr>\n",
       "    <tr>\n",
       "      <th id=\"T_a7f95_level0_row1\" class=\"row_heading level0 row1\" ></th>\n",
       "      <td id=\"T_a7f95_row1_col0\" class=\"data row1 col0\" >02/01/00</td>\n",
       "      <td id=\"T_a7f95_row1_col1\" class=\"data row1 col1\" >Rp 600000.00</td>\n",
       "      <td id=\"T_a7f95_row1_col2\" class=\"data row1 col2\" >Rp 50000.00</td>\n",
       "    </tr>\n",
       "    <tr>\n",
       "      <th id=\"T_a7f95_level0_row2\" class=\"row_heading level0 row2\" ></th>\n",
       "      <td id=\"T_a7f95_row2_col0\" class=\"data row2 col0\" >03/01/00</td>\n",
       "      <td id=\"T_a7f95_row2_col1\" class=\"data row2 col1\" >Rp 500000.00</td>\n",
       "      <td id=\"T_a7f95_row2_col2\" class=\"data row2 col2\" >Rp 70000.00</td>\n",
       "    </tr>\n",
       "    <tr>\n",
       "      <th id=\"T_a7f95_level0_row3\" class=\"row_heading level0 row3\" ></th>\n",
       "      <td id=\"T_a7f95_row3_col0\" class=\"data row3 col0\" >04/01/00</td>\n",
       "      <td id=\"T_a7f95_row3_col1\" class=\"data row3 col1\" >Rp 200000.00</td>\n",
       "      <td id=\"T_a7f95_row3_col2\" class=\"data row3 col2\" >Rp 130000.00</td>\n",
       "    </tr>\n",
       "    <tr>\n",
       "      <th id=\"T_a7f95_level0_row4\" class=\"row_heading level0 row4\" ></th>\n",
       "      <td id=\"T_a7f95_row4_col0\" class=\"data row4 col0\" >05/01/00</td>\n",
       "      <td id=\"T_a7f95_row4_col1\" class=\"data row4 col1\" >Rp 1000000.00</td>\n",
       "      <td id=\"T_a7f95_row4_col2\" class=\"data row4 col2\" >Rp 110000.00</td>\n",
       "    </tr>\n",
       "  </tbody>\n",
       "</table>\n"
      ],
      "text/plain": [
       "<pandas.io.formats.style.Styler at 0x1e3e8796110>"
      ]
     },
     "execution_count": 19,
     "metadata": {},
     "output_type": "execute_result"
    }
   ],
   "source": [
    "# Membuat salinan DataFrame dan mengganti indeksnya dengan string kosong\n",
    "df_temp = df.copy()\n",
    "df_temp.index = [''] * len(df)\n",
    "\n",
    "# Membuat objek Styler dengan format yang telah ditentukan\n",
    "df_temp_styled = df_temp.style.format(formatku)\n",
    "\n",
    "# Menampilkan tampilan yang diformat menggunakan Styler\n",
    "df_temp_styled"
   ]
  },
  {
   "cell_type": "markdown",
   "metadata": {
    "id": "rXCf1LAke3ws"
   },
   "source": [
    "- Memberi keterangan"
   ]
  },
  {
   "cell_type": "code",
   "execution_count": 20,
   "metadata": {
    "colab": {
     "base_uri": "https://localhost:8080/",
     "height": 224
    },
    "id": "NDBJ6P0ve6tx",
    "outputId": "c409bc30-5069-4bc1-8375-09b1e1cb6373"
   },
   "outputs": [
    {
     "data": {
      "text/html": [
       "<style type=\"text/css\">\n",
       "</style>\n",
       "<table id=\"T_d1b28\">\n",
       "  <caption>Data Omset dan Operasional</caption>\n",
       "  <thead>\n",
       "    <tr>\n",
       "      <th class=\"blank level0\" >&nbsp;</th>\n",
       "      <th id=\"T_d1b28_level0_col0\" class=\"col_heading level0 col0\" >tanggal</th>\n",
       "      <th id=\"T_d1b28_level0_col1\" class=\"col_heading level0 col1\" >omset</th>\n",
       "      <th id=\"T_d1b28_level0_col2\" class=\"col_heading level0 col2\" >operasional</th>\n",
       "    </tr>\n",
       "  </thead>\n",
       "  <tbody>\n",
       "    <tr>\n",
       "      <th id=\"T_d1b28_level0_row0\" class=\"row_heading level0 row0\" >0</th>\n",
       "      <td id=\"T_d1b28_row0_col0\" class=\"data row0 col0\" >01/01/00</td>\n",
       "      <td id=\"T_d1b28_row0_col1\" class=\"data row0 col1\" >Rp 600000.00</td>\n",
       "      <td id=\"T_d1b28_row0_col2\" class=\"data row0 col2\" >Rp 160000.00</td>\n",
       "    </tr>\n",
       "    <tr>\n",
       "      <th id=\"T_d1b28_level0_row1\" class=\"row_heading level0 row1\" >1</th>\n",
       "      <td id=\"T_d1b28_row1_col0\" class=\"data row1 col0\" >02/01/00</td>\n",
       "      <td id=\"T_d1b28_row1_col1\" class=\"data row1 col1\" >Rp 600000.00</td>\n",
       "      <td id=\"T_d1b28_row1_col2\" class=\"data row1 col2\" >Rp 50000.00</td>\n",
       "    </tr>\n",
       "    <tr>\n",
       "      <th id=\"T_d1b28_level0_row2\" class=\"row_heading level0 row2\" >2</th>\n",
       "      <td id=\"T_d1b28_row2_col0\" class=\"data row2 col0\" >03/01/00</td>\n",
       "      <td id=\"T_d1b28_row2_col1\" class=\"data row2 col1\" >Rp 500000.00</td>\n",
       "      <td id=\"T_d1b28_row2_col2\" class=\"data row2 col2\" >Rp 70000.00</td>\n",
       "    </tr>\n",
       "    <tr>\n",
       "      <th id=\"T_d1b28_level0_row3\" class=\"row_heading level0 row3\" >3</th>\n",
       "      <td id=\"T_d1b28_row3_col0\" class=\"data row3 col0\" >04/01/00</td>\n",
       "      <td id=\"T_d1b28_row3_col1\" class=\"data row3 col1\" >Rp 200000.00</td>\n",
       "      <td id=\"T_d1b28_row3_col2\" class=\"data row3 col2\" >Rp 130000.00</td>\n",
       "    </tr>\n",
       "    <tr>\n",
       "      <th id=\"T_d1b28_level0_row4\" class=\"row_heading level0 row4\" >4</th>\n",
       "      <td id=\"T_d1b28_row4_col0\" class=\"data row4 col0\" >05/01/00</td>\n",
       "      <td id=\"T_d1b28_row4_col1\" class=\"data row4 col1\" >Rp 1000000.00</td>\n",
       "      <td id=\"T_d1b28_row4_col2\" class=\"data row4 col2\" >Rp 110000.00</td>\n",
       "    </tr>\n",
       "  </tbody>\n",
       "</table>\n"
      ],
      "text/plain": [
       "<pandas.io.formats.style.Styler at 0x1e3e8797e20>"
      ]
     },
     "execution_count": 20,
     "metadata": {},
     "output_type": "execute_result"
    }
   ],
   "source": [
    "# Menambahkan judul/caption ke Styler\n",
    "laporan.set_caption('Data Omset dan Operasional')\n",
    "\n",
    "# Memberikan caption atau judul pada tampilan Styler untuk memberikan konteks atau informasi tambahan."
   ]
  },
  {
   "cell_type": "markdown",
   "metadata": {
    "id": "Ajb6F7tne8Ww"
   },
   "source": [
    "- Memberi penanda warna pada dataframe"
   ]
  },
  {
   "cell_type": "code",
   "execution_count": 21,
   "metadata": {
    "colab": {
     "base_uri": "https://localhost:8080/",
     "height": 224
    },
    "id": "PoZ6xwObe_PM",
    "outputId": "945b7a68-4d0c-4590-c9a6-15ae2991380b"
   },
   "outputs": [
    {
     "data": {
      "text/html": [
       "<style type=\"text/css\">\n",
       "#T_d1b28_row0_col2 {\n",
       "  background-color: grey;\n",
       "}\n",
       "#T_d1b28_row1_col2 {\n",
       "  background-color: lightblue;\n",
       "}\n",
       "#T_d1b28_row3_col1 {\n",
       "  background-color: pink;\n",
       "}\n",
       "#T_d1b28_row4_col1 {\n",
       "  background-color: lightgreen;\n",
       "}\n",
       "</style>\n",
       "<table id=\"T_d1b28\">\n",
       "  <caption>Data Omset dan Operasional</caption>\n",
       "  <thead>\n",
       "    <tr>\n",
       "      <th class=\"blank level0\" >&nbsp;</th>\n",
       "      <th id=\"T_d1b28_level0_col0\" class=\"col_heading level0 col0\" >tanggal</th>\n",
       "      <th id=\"T_d1b28_level0_col1\" class=\"col_heading level0 col1\" >omset</th>\n",
       "      <th id=\"T_d1b28_level0_col2\" class=\"col_heading level0 col2\" >operasional</th>\n",
       "    </tr>\n",
       "  </thead>\n",
       "  <tbody>\n",
       "    <tr>\n",
       "      <th id=\"T_d1b28_level0_row0\" class=\"row_heading level0 row0\" >0</th>\n",
       "      <td id=\"T_d1b28_row0_col0\" class=\"data row0 col0\" >01/01/00</td>\n",
       "      <td id=\"T_d1b28_row0_col1\" class=\"data row0 col1\" >Rp 600000.00</td>\n",
       "      <td id=\"T_d1b28_row0_col2\" class=\"data row0 col2\" >Rp 160000.00</td>\n",
       "    </tr>\n",
       "    <tr>\n",
       "      <th id=\"T_d1b28_level0_row1\" class=\"row_heading level0 row1\" >1</th>\n",
       "      <td id=\"T_d1b28_row1_col0\" class=\"data row1 col0\" >02/01/00</td>\n",
       "      <td id=\"T_d1b28_row1_col1\" class=\"data row1 col1\" >Rp 600000.00</td>\n",
       "      <td id=\"T_d1b28_row1_col2\" class=\"data row1 col2\" >Rp 50000.00</td>\n",
       "    </tr>\n",
       "    <tr>\n",
       "      <th id=\"T_d1b28_level0_row2\" class=\"row_heading level0 row2\" >2</th>\n",
       "      <td id=\"T_d1b28_row2_col0\" class=\"data row2 col0\" >03/01/00</td>\n",
       "      <td id=\"T_d1b28_row2_col1\" class=\"data row2 col1\" >Rp 500000.00</td>\n",
       "      <td id=\"T_d1b28_row2_col2\" class=\"data row2 col2\" >Rp 70000.00</td>\n",
       "    </tr>\n",
       "    <tr>\n",
       "      <th id=\"T_d1b28_level0_row3\" class=\"row_heading level0 row3\" >3</th>\n",
       "      <td id=\"T_d1b28_row3_col0\" class=\"data row3 col0\" >04/01/00</td>\n",
       "      <td id=\"T_d1b28_row3_col1\" class=\"data row3 col1\" >Rp 200000.00</td>\n",
       "      <td id=\"T_d1b28_row3_col2\" class=\"data row3 col2\" >Rp 130000.00</td>\n",
       "    </tr>\n",
       "    <tr>\n",
       "      <th id=\"T_d1b28_level0_row4\" class=\"row_heading level0 row4\" >4</th>\n",
       "      <td id=\"T_d1b28_row4_col0\" class=\"data row4 col0\" >05/01/00</td>\n",
       "      <td id=\"T_d1b28_row4_col1\" class=\"data row4 col1\" >Rp 1000000.00</td>\n",
       "      <td id=\"T_d1b28_row4_col2\" class=\"data row4 col2\" >Rp 110000.00</td>\n",
       "    </tr>\n",
       "  </tbody>\n",
       "</table>\n"
      ],
      "text/plain": [
       "<pandas.io.formats.style.Styler at 0x1e3e8797e20>"
      ]
     },
     "execution_count": 21,
     "metadata": {},
     "output_type": "execute_result"
    }
   ],
   "source": [
    "# Menyoroti nilai minimum dan maksimum pada kolom 'omset' dengan warna berbeda\n",
    "laporan.highlight_min('omset', color='pink')\n",
    "laporan.highlight_max('omset', color='lightgreen')\n",
    "\n",
    "# Menyoroti nilai minimum dan maksimum pada kolom 'operasional' dengan warna berbeda\n",
    "laporan.highlight_min('operasional', color='lightblue')\n",
    "laporan.highlight_max('operasional', color='grey')\n",
    "\n",
    "# Menyajikan tampilan yang diberi sorotan untuk memvisualisasikan nilai minimum dan maksimum pada data omset dan operasional."
   ]
  },
  {
   "cell_type": "markdown",
   "metadata": {
    "id": "ekCUxV2DfCGu"
   },
   "source": [
    "# **#20 Menggabungkan (merge) Dua Data Frame Secara Berdampingan**\n",
    "Source : [Indonesia Belajar](https://youtu.be/AldqObRhkDU)"
   ]
  },
  {
   "cell_type": "markdown",
   "metadata": {
    "id": "M9uXj3cMfJ8P"
   },
   "source": [
    "# Import Modules"
   ]
  },
  {
   "cell_type": "code",
   "execution_count": 22,
   "metadata": {
    "colab": {
     "base_uri": "https://localhost:8080/"
    },
    "id": "NX4dlLcEfMHX",
    "outputId": "85f32c18-e488-4575-a2b7-7738db5c146a"
   },
   "outputs": [
    {
     "name": "stdout",
     "output_type": "stream",
     "text": [
      "2.1.1\n"
     ]
    }
   ],
   "source": [
    "import pandas as pd\n",
    "\n",
    "print(pd.__version__)"
   ]
  },
  {
   "cell_type": "markdown",
   "metadata": {
    "id": "N1Z-LpdXfOLy"
   },
   "source": [
    "- Membuat 2 buah dataframe\n",
    "- Masing-masing dataframe akan memiliki dua buah dictionary"
   ]
  },
  {
   "cell_type": "code",
   "execution_count": 23,
   "metadata": {
    "colab": {
     "base_uri": "https://localhost:8080/",
     "height": 143
    },
    "id": "hL79hCcifTUx",
    "outputId": "2a8ee759-f616-4355-c17b-f39b61e9eb3d"
   },
   "outputs": [
    {
     "data": {
      "text/html": [
       "<div>\n",
       "<style scoped>\n",
       "    .dataframe tbody tr th:only-of-type {\n",
       "        vertical-align: middle;\n",
       "    }\n",
       "\n",
       "    .dataframe tbody tr th {\n",
       "        vertical-align: top;\n",
       "    }\n",
       "\n",
       "    .dataframe thead th {\n",
       "        text-align: right;\n",
       "    }\n",
       "</style>\n",
       "<table border=\"1\" class=\"dataframe\">\n",
       "  <thead>\n",
       "    <tr style=\"text-align: right;\">\n",
       "      <th></th>\n",
       "      <th>col1</th>\n",
       "      <th>col2</th>\n",
       "    </tr>\n",
       "  </thead>\n",
       "  <tbody>\n",
       "    <tr>\n",
       "      <th>0</th>\n",
       "      <td>1</td>\n",
       "      <td>10</td>\n",
       "    </tr>\n",
       "    <tr>\n",
       "      <th>1</th>\n",
       "      <td>2</td>\n",
       "      <td>20</td>\n",
       "    </tr>\n",
       "    <tr>\n",
       "      <th>2</th>\n",
       "      <td>3</td>\n",
       "      <td>30</td>\n",
       "    </tr>\n",
       "  </tbody>\n",
       "</table>\n",
       "</div>"
      ],
      "text/plain": [
       "   col1  col2\n",
       "0     1    10\n",
       "1     2    20\n",
       "2     3    30"
      ]
     },
     "execution_count": 23,
     "metadata": {},
     "output_type": "execute_result"
    }
   ],
   "source": [
    "# Membuat DataFrame 'df1' dengan dua kolom ('col1' dan 'col2') dan tiga baris data.\n",
    "d1 = {'col1':[1, 2, 3], \n",
    "      'col2':[10, 20, 30]}\n",
    "df1 = pd.DataFrame(d1)\n",
    "df1"
   ]
  },
  {
   "cell_type": "code",
   "execution_count": 24,
   "metadata": {
    "colab": {
     "base_uri": "https://localhost:8080/",
     "height": 143
    },
    "id": "xsqjGPw6fVFa",
    "outputId": "875101b1-7261-4d20-d764-2b6efcfa368c"
   },
   "outputs": [
    {
     "data": {
      "text/html": [
       "<div>\n",
       "<style scoped>\n",
       "    .dataframe tbody tr th:only-of-type {\n",
       "        vertical-align: middle;\n",
       "    }\n",
       "\n",
       "    .dataframe tbody tr th {\n",
       "        vertical-align: top;\n",
       "    }\n",
       "\n",
       "    .dataframe thead th {\n",
       "        text-align: right;\n",
       "    }\n",
       "</style>\n",
       "<table border=\"1\" class=\"dataframe\">\n",
       "  <thead>\n",
       "    <tr style=\"text-align: right;\">\n",
       "      <th></th>\n",
       "      <th>col3</th>\n",
       "      <th>col4</th>\n",
       "    </tr>\n",
       "  </thead>\n",
       "  <tbody>\n",
       "    <tr>\n",
       "      <th>0</th>\n",
       "      <td>4</td>\n",
       "      <td>40</td>\n",
       "    </tr>\n",
       "    <tr>\n",
       "      <th>1</th>\n",
       "      <td>5</td>\n",
       "      <td>50</td>\n",
       "    </tr>\n",
       "    <tr>\n",
       "      <th>2</th>\n",
       "      <td>6</td>\n",
       "      <td>60</td>\n",
       "    </tr>\n",
       "  </tbody>\n",
       "</table>\n",
       "</div>"
      ],
      "text/plain": [
       "   col3  col4\n",
       "0     4    40\n",
       "1     5    50\n",
       "2     6    60"
      ]
     },
     "execution_count": 24,
     "metadata": {},
     "output_type": "execute_result"
    }
   ],
   "source": [
    "# Membuat DataFrame 'df2' dengan dua kolom ('col3' dan 'col4') dan tiga baris data.\n",
    "d2 = {'col3':[4, 5, 6], \n",
    "      'col4':[40, 50, 60]}\n",
    "df2 = pd.DataFrame(d2)\n",
    "df2"
   ]
  },
  {
   "cell_type": "markdown",
   "metadata": {
    "id": "eEwjRjPefXIS"
   },
   "source": [
    "- Berbeda dengan trick sebelumnya\n",
    "- Kali ini, kita hanya perlu menambahkan arguments True pada parameter left_index dan right_index."
   ]
  },
  {
   "cell_type": "code",
   "execution_count": 25,
   "metadata": {
    "colab": {
     "base_uri": "https://localhost:8080/",
     "height": 143
    },
    "id": "xXOFtg6dfa0L",
    "outputId": "3f87617d-3b99-4c13-df7a-a4b5b1224bc7"
   },
   "outputs": [
    {
     "data": {
      "text/html": [
       "<div>\n",
       "<style scoped>\n",
       "    .dataframe tbody tr th:only-of-type {\n",
       "        vertical-align: middle;\n",
       "    }\n",
       "\n",
       "    .dataframe tbody tr th {\n",
       "        vertical-align: top;\n",
       "    }\n",
       "\n",
       "    .dataframe thead th {\n",
       "        text-align: right;\n",
       "    }\n",
       "</style>\n",
       "<table border=\"1\" class=\"dataframe\">\n",
       "  <thead>\n",
       "    <tr style=\"text-align: right;\">\n",
       "      <th></th>\n",
       "      <th>col1</th>\n",
       "      <th>col2</th>\n",
       "      <th>col3</th>\n",
       "      <th>col4</th>\n",
       "    </tr>\n",
       "  </thead>\n",
       "  <tbody>\n",
       "    <tr>\n",
       "      <th>0</th>\n",
       "      <td>1</td>\n",
       "      <td>10</td>\n",
       "      <td>4</td>\n",
       "      <td>40</td>\n",
       "    </tr>\n",
       "    <tr>\n",
       "      <th>1</th>\n",
       "      <td>2</td>\n",
       "      <td>20</td>\n",
       "      <td>5</td>\n",
       "      <td>50</td>\n",
       "    </tr>\n",
       "    <tr>\n",
       "      <th>2</th>\n",
       "      <td>3</td>\n",
       "      <td>30</td>\n",
       "      <td>6</td>\n",
       "      <td>60</td>\n",
       "    </tr>\n",
       "  </tbody>\n",
       "</table>\n",
       "</div>"
      ],
      "text/plain": [
       "   col1  col2  col3  col4\n",
       "0     1    10     4    40\n",
       "1     2    20     5    50\n",
       "2     3    30     6    60"
      ]
     },
     "execution_count": 25,
     "metadata": {},
     "output_type": "execute_result"
    }
   ],
   "source": [
    "# Menggabungkan dua DataFrame, 'df1' dan 'df2', berdasarkan indeks (left_index=True dan right_index=True).\n",
    "df = pd.merge(df1, df2, left_index=True, right_index=True)\n",
    "df"
   ]
  }
 ],
 "metadata": {
  "colab": {
   "provenance": []
  },
  "kernelspec": {
   "display_name": "Python 3 (ipykernel)",
   "language": "python",
   "name": "python3"
  },
  "language_info": {
   "codemirror_mode": {
    "name": "ipython",
    "version": 3
   },
   "file_extension": ".py",
   "mimetype": "text/x-python",
   "name": "python",
   "nbconvert_exporter": "python",
   "pygments_lexer": "ipython3",
   "version": "3.10.7"
  }
 },
 "nbformat": 4,
 "nbformat_minor": 4
}
